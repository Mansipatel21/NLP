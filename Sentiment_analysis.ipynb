{
  "nbformat": 4,
  "nbformat_minor": 0,
  "metadata": {
    "colab": {
      "provenance": [],
      "authorship_tag": "ABX9TyOdpxAV13zB/n1IeYZWB9/K",
      "include_colab_link": true
    },
    "kernelspec": {
      "name": "python3",
      "display_name": "Python 3"
    },
    "language_info": {
      "name": "python"
    }
  },
  "cells": [
    {
      "cell_type": "markdown",
      "metadata": {
        "id": "view-in-github",
        "colab_type": "text"
      },
      "source": [
        "<a href=\"https://colab.research.google.com/github/Mansipatel21/NLP/blob/main/Sentiment_analysis.ipynb\" target=\"_parent\"><img src=\"https://colab.research.google.com/assets/colab-badge.svg\" alt=\"Open In Colab\"/></a>"
      ]
    },
    {
      "cell_type": "code",
      "execution_count": 1,
      "metadata": {
        "colab": {
          "base_uri": "https://localhost:8080/"
        },
        "id": "OVk5EaOUCQi1",
        "outputId": "eac9b0d0-44f8-4a92-af23-eb61af394ef1"
      },
      "outputs": [
        {
          "output_type": "stream",
          "name": "stdout",
          "text": [
            "Polarity: 0.625\n",
            "Subjectivity: 0.75\n"
          ]
        }
      ],
      "source": [
        "from textblob import TextBlob\n",
        "\n",
        "text = \"I love NLP. It's amazing!\"\n",
        "\n",
        "# Perform sentiment analysis\n",
        "analysis = TextBlob(text)\n",
        "polarity = analysis.sentiment.polarity\n",
        "subjectivity = analysis.sentiment.subjectivity\n",
        "\n",
        "print(\"Polarity:\", polarity)\n",
        "print(\"Subjectivity:\", subjectivity)\n"
      ]
    }
  ]
}